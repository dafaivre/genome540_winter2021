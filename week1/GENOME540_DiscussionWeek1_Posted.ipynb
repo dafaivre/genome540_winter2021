{
  "nbformat": 4,
  "nbformat_minor": 0,
  "metadata": {
    "colab": {
      "name": "GENOME540_DiscussionWeek1_Posted.ipynb",
      "provenance": [],
      "collapsed_sections": [],
      "authorship_tag": "ABX9TyNWGmouEl5KA1s0429noRiT",
      "include_colab_link": true
    },
    "kernelspec": {
      "name": "python3",
      "display_name": "Python 3"
    }
  },
  "cells": [
    {
      "cell_type": "markdown",
      "metadata": {
        "id": "view-in-github",
        "colab_type": "text"
      },
      "source": [
        "<a href=\"https://colab.research.google.com/github/dafaivre/genome540_winter2021/blob/main/week1/GENOME540_DiscussionWeek1_Posted.ipynb\" target=\"_parent\"><img src=\"https://colab.research.google.com/assets/colab-badge.svg\" alt=\"Open In Colab\"/></a>"
      ]
    },
    {
      "cell_type": "markdown",
      "metadata": {
        "id": "rllKdHyQeBSy"
      },
      "source": [
        "# **Genome 540 Discussion Week 1**\r\n",
        "## created by Dani Faivre - Jan. 7, 2021\r\n",
        "To execute the code blocks below, select with a click and then either press the play button to the left of the code, or use the keyboard shortcut \"Command/Ctrl+Enter\".\r\n"
      ]
    },
    {
      "cell_type": "markdown",
      "metadata": {
        "id": "32AGlKdafEuU"
      },
      "source": [
        "### **Pointers in C++**\r\n",
        "\\* as a suffix to a type is a \"pointer\"\r\n",
        "\r\n",
        "& as a unary prefix is the address-of operator\r\n",
        "\r\n",
        "\r\n"
      ]
    },
    {
      "cell_type": "code",
      "metadata": {
        "id": "jg65twnboFE1"
      },
      "source": [
        "%%writefile pointer.cpp\r\n",
        "// must write file to be able to run in next block\r\n",
        "\r\n",
        "#include <iostream>\r\n",
        "using namespace std;\r\n",
        "\r\n",
        "char x = 'h';\r\n",
        "\r\n",
        "char * p = &x;\r\n",
        "\r\n",
        "// main function\r\n",
        "int main(){\r\n",
        "  cout<<x<<endl;\r\n",
        "}"
      ],
      "execution_count": null,
      "outputs": []
    },
    {
      "cell_type": "code",
      "metadata": {
        "id": "HAkb88cenm3g"
      },
      "source": [
        "%%script bash\r\n",
        "# compile and run most recently written file\r\n",
        "\r\n",
        "g++ pointer.cpp -o pointer\r\n",
        "./pointer"
      ],
      "execution_count": null,
      "outputs": []
    },
    {
      "cell_type": "markdown",
      "metadata": {
        "id": "yS2bnICXgZKf"
      },
      "source": [
        "\\* as a unary prefix means the content of that memory location"
      ]
    },
    {
      "cell_type": "code",
      "metadata": {
        "id": "h2OFmIWxqEIX"
      },
      "source": [
        "%%writefile address.cpp\r\n",
        "// must write file to be able to run in next block\r\n",
        "\r\n",
        "#include <iostream>\r\n",
        "using namespace std;\r\n",
        "\r\n",
        "char y = 'a';\r\n",
        "\r\n",
        "char * p = &y;\r\n",
        "\r\n",
        "char x = *p;\r\n",
        "\r\n",
        "// main function\r\n",
        "int main(){\r\n",
        "  cout<<x<<endl;\r\n",
        "}"
      ],
      "execution_count": null,
      "outputs": []
    },
    {
      "cell_type": "code",
      "metadata": {
        "id": "TJPkh5U4ddrW"
      },
      "source": [
        "%%script bash\r\n",
        "# compile and run most recently written file\r\n",
        "\r\n",
        "g++ address.cpp -o address\r\n",
        "./address"
      ],
      "execution_count": null,
      "outputs": []
    },
    {
      "cell_type": "markdown",
      "metadata": {
        "id": "rmE9X2KAh0Hd"
      },
      "source": [
        "& as a suffix to a type means \"pass by reference\""
      ]
    },
    {
      "cell_type": "code",
      "metadata": {
        "id": "D9WoyZpLniEH"
      },
      "source": [
        "%%writefile reference.cpp\r\n",
        "// must write file to be able to run in next block\r\n",
        "\r\n",
        "#include <iostream>\r\n",
        "using namespace std;\r\n",
        "\r\n",
        "// pass by reference\r\n",
        "  void my_func(int& a){\r\n",
        "      a = 5;\r\n",
        "  }\r\n",
        "\r\n",
        "// main function\r\n",
        "int main(int argc,char* argv[]){\r\n",
        "    int a = 0;\r\n",
        "    my_func(a);\r\n",
        "    cout<<a<<endl;\r\n",
        "}"
      ],
      "execution_count": null,
      "outputs": []
    },
    {
      "cell_type": "code",
      "metadata": {
        "id": "8WSS7uDzYmJe"
      },
      "source": [
        "%%script bash\r\n",
        "# compile and run most recently written file\r\n",
        "\r\n",
        "g++ reference.cpp -o reference\r\n",
        "./reference"
      ],
      "execution_count": null,
      "outputs": []
    },
    {
      "cell_type": "markdown",
      "metadata": {
        "id": "0kWJswFgjFin"
      },
      "source": [
        "### **Arrays in C++**\r\n",
        "Arrays are pointers to continuous blocks of memory"
      ]
    },
    {
      "cell_type": "code",
      "metadata": {
        "id": "_EBPtBY1qgun"
      },
      "source": [
        "%%writefile array1.cpp\r\n",
        "// must write file to be able to run in next block\r\n",
        "\r\n",
        "#include <iostream>\r\n",
        "using namespace std;\r\n",
        "\r\n",
        "// declare an array of 6 characters called word\r\n",
        "char word[6];\r\n",
        "\r\n",
        "// main function\r\n",
        "int main(int argc,char* argv[]){\r\n",
        "    // store 'a' in first element of word\r\n",
        "    word[0] = 'a';\r\n",
        "    cout<<word<<endl;\r\n",
        "}"
      ],
      "execution_count": null,
      "outputs": []
    },
    {
      "cell_type": "code",
      "metadata": {
        "id": "PVqGOkmljAo9"
      },
      "source": [
        "%%script bash\r\n",
        "# compile and run most recently written file\r\n",
        "\r\n",
        "g++ array1.cpp -o array1\r\n",
        "./array1"
      ],
      "execution_count": null,
      "outputs": []
    },
    {
      "cell_type": "markdown",
      "metadata": {
        "id": "yhO5HJMDjpNk"
      },
      "source": [
        "Array indices combine pointer arithmmetic and dereferencing "
      ]
    },
    {
      "cell_type": "code",
      "metadata": {
        "id": "yEC2c42NrVEy"
      },
      "source": [
        "%%writefile array2.cpp\r\n",
        "// must write file to be able to run in next block\r\n",
        "\r\n",
        "#include <iostream>\r\n",
        "using namespace std;\r\n",
        "\r\n",
        "const char* word = \"hi\";\r\n",
        "\r\n",
        "// main function\r\n",
        "int main(int argc,char* argv[]){\r\n",
        "    cout<<word<<endl; // one pointer can refer to whole string\r\n",
        "    cout<<word[0]<<endl;\r\n",
        "    cout<<word+1<<endl;\r\n",
        "    cout<<word[1]<<endl;\r\n",
        "    cout<<word[2]<<endl; // contains null terminator\r\n",
        "}"
      ],
      "execution_count": null,
      "outputs": []
    },
    {
      "cell_type": "code",
      "metadata": {
        "id": "t63Pw57pkHbt"
      },
      "source": [
        "%%script bash\r\n",
        "# compile and run most recently written file\r\n",
        "\r\n",
        "g++ array2.cpp -o array2\r\n",
        "./array2"
      ],
      "execution_count": null,
      "outputs": []
    },
    {
      "cell_type": "markdown",
      "metadata": {
        "id": "s-QeskFLmJPv"
      },
      "source": [
        "Here is another example with a longer character array:"
      ]
    },
    {
      "cell_type": "code",
      "metadata": {
        "id": "kG6bt3zMkoAO"
      },
      "source": [
        "%%writefile array3.cpp\r\n",
        "// must write file to be able to run in next block\r\n",
        "// same as above, but using \"hello\"\r\n",
        "\r\n",
        "#include <iostream>\r\n",
        "using namespace std;\r\n",
        "\r\n",
        "const char* word = \"hello\"; \r\n",
        "\r\n",
        "// main function\r\n",
        "int main(int argc,char* argv[]){\r\n",
        "    cout<<word<<endl; // one pointer can refer to whole string\r\n",
        "    cout<<word[0]<<endl;\r\n",
        "    cout<<word+1<<endl;\r\n",
        "    cout<<word[1]<<endl;\r\n",
        "    cout<<word[2]<<endl;\r\n",
        "}"
      ],
      "execution_count": null,
      "outputs": []
    },
    {
      "cell_type": "code",
      "metadata": {
        "id": "yw4WaOWdl14u"
      },
      "source": [
        "%%script bash\r\n",
        "# compile and run most recently written file\r\n",
        "\r\n",
        "g++ array3.cpp -o array3\r\n",
        "./array3"
      ],
      "execution_count": null,
      "outputs": []
    },
    {
      "cell_type": "markdown",
      "metadata": {
        "id": "NzQ8xti3mAQx"
      },
      "source": [
        "### **Dynamic arrays in C++**\r\n"
      ]
    },
    {
      "cell_type": "code",
      "metadata": {
        "id": "KxnmNOFy2DNP"
      },
      "source": [
        "%%writefile dynamic.cpp\r\n",
        "// must write file to be able to run in next block\r\n",
        "\r\n",
        "#include <iostream>\r\n",
        "#include <fstream>\r\n",
        "#include <sstream>\r\n",
        "#include <vector>\r\n",
        "#include <algorithm>\r\n",
        "using namespace std;\r\n",
        "\r\n",
        "// main function\r\n",
        "int main(int argc, char* argv[]){\r\n",
        "    vector<string> vec;\r\n",
        "    vec.push_back(\"ZABC\");\r\n",
        "    vec.push_back(\"DEF\");\r\n",
        "    for(auto x:vec){\r\n",
        "        cout<<x<<endl;\r\n",
        "    }\r\n",
        "    vec.clear();\r\n",
        "}"
      ],
      "execution_count": null,
      "outputs": []
    },
    {
      "cell_type": "code",
      "metadata": {
        "id": "xMdiATVHmVBy"
      },
      "source": [
        "%%script bash\r\n",
        "# compile and run most recently written file\r\n",
        "\r\n",
        "g++ dynamic.cpp -o dynamic\r\n",
        "./dynamic"
      ],
      "execution_count": null,
      "outputs": []
    },
    {
      "cell_type": "markdown",
      "metadata": {
        "id": "QOuDuAmXmmUg"
      },
      "source": [
        "### **Custom data types in C++ (structs)**"
      ]
    },
    {
      "cell_type": "code",
      "metadata": {
        "id": "uzq-H-SF2u01"
      },
      "source": [
        "%%writefile struct.cpp\r\n",
        "// must write file to be able to run in next block\r\n",
        "\r\n",
        "#include <iostream>\r\n",
        "using namespace std;\r\n",
        "\r\n",
        "// declare structure complex\r\n",
        "struct complex{\r\n",
        "    int real;\r\n",
        "    int img;\r\n",
        "};\r\n",
        "\r\n",
        "// main function\r\n",
        "int main(int argc, char* argv[]){\r\n",
        "  complex a = {10,1};\r\n",
        "  cout<< \"Real: \"<<a.real<<\" Img: \"<<a.img<<endl;\r\n",
        "\r\n",
        "  complex * p = &a;\r\n",
        "  cout<<\"Real: \"<<p->real<<\" Img: \"<<p->img<<endl;\r\n",
        "}"
      ],
      "execution_count": null,
      "outputs": []
    },
    {
      "cell_type": "code",
      "metadata": {
        "id": "W5RBSZckmt_U"
      },
      "source": [
        "%%script bash\r\n",
        "# compile and run most recently written file\r\n",
        "\r\n",
        "g++ struct.cpp -o struct\r\n",
        "./struct"
      ],
      "execution_count": null,
      "outputs": []
    },
    {
      "cell_type": "markdown",
      "metadata": {
        "id": "I3X46LtJoT4c"
      },
      "source": [
        "### **Sorting in C++ (with sort)**"
      ]
    },
    {
      "cell_type": "code",
      "metadata": {
        "id": "2zYm_Swr3j0F"
      },
      "source": [
        "%%writefile sort.cpp\r\n",
        "// must write file to be able to run in next block\r\n",
        "\r\n",
        "#include <iostream>\r\n",
        "#include <fstream>\r\n",
        "#include <sstream>\r\n",
        "#include <vector>\r\n",
        "#include <algorithm>\r\n",
        "using namespace std;\r\n",
        "\r\n",
        "// define comparison\r\n",
        "bool my_cmp(const string & a, const string & b){\r\n",
        "    return( a < b );\r\n",
        "}\r\n",
        "\r\n",
        "// main function\r\n",
        "int main(int argc, char* argv[]){\r\n",
        "    vector<string> vec;\r\n",
        "    vec.push_back(\"ZABC\");\r\n",
        "    vec.push_back(\"DEF\");\r\n",
        "        sort(vec.begin(), vec.end(), my_cmp);\r\n",
        "    for(auto x:vec){\r\n",
        "        cout<<x<<endl;\r\n",
        "    }\r\n",
        "    vec.clear();\r\n",
        "}"
      ],
      "execution_count": null,
      "outputs": []
    },
    {
      "cell_type": "code",
      "metadata": {
        "id": "yX5xqUTJqxJ3"
      },
      "source": [
        "%%script bash\r\n",
        "# compile and run most recently written file\r\n",
        "\r\n",
        "g++ sort.cpp -o sort\r\n",
        "./sort"
      ],
      "execution_count": null,
      "outputs": []
    },
    {
      "cell_type": "markdown",
      "metadata": {
        "id": "vLJUhDqTp0VY"
      },
      "source": [
        "### **Example of reading in a file in C++**\r\n",
        "#### **(and a few other things)**"
      ]
    },
    {
      "cell_type": "code",
      "metadata": {
        "id": "pcIXePMZC4Gg"
      },
      "source": [
        "%%writefile example.cpp\r\n",
        "\r\n",
        "\r\n",
        "#include <cstdio>\r\n",
        "#include <iostream>\r\n",
        "#include <fstream>\r\n",
        "#include <string>\r\n",
        "#include <cassert>\r\n",
        "\r\n",
        "using namespace std;\r\n",
        "\r\n",
        "void read_file(string filename, string& contents, int& num_lines)\r\n",
        "{\r\n",
        "    ifstream f;\r\n",
        "    f.open(filename.c_str());\r\n",
        "    string line;\r\n",
        "\r\n",
        "    contents = \"\";\r\n",
        "    num_lines = 0;\r\n",
        "    while(getline(f, line)){\r\n",
        "        contents.append(line.substr(0,line.length()));\r\n",
        "        num_lines++;\r\n",
        "    }\r\n",
        " \r\n",
        "    f.close();\r\n",
        "}\r\n",
        "\r\n",
        "int main(int argc, char* argv[])\r\n",
        "{\r\n",
        "    string fn = argv[1];\r\n",
        "    string contents;\r\n",
        "    int num_lines;\r\n",
        "\r\n",
        "    read_file(fn, contents, num_lines);\r\n",
        "\r\n",
        "    cout << \"Read: \" << fn << \"\\n\";\r\n",
        "    cout << \"  * \" << num_lines << \" lines\\n\";\r\n",
        "    cout << \"  * \" << contents.length() << \" characters (excluding newlines)\\n\";\r\n",
        "\r\n",
        "    char * contents_cstring = (char*)contents.c_str();\r\n",
        "    for (int i = 0; i < contents.length(); i++) {\r\n",
        "        assert(contents_cstring[i] == *(contents_cstring + i));\r\n",
        "        assert(contents_cstring[i] == contents.at(i));\r\n",
        "    }\r\n",
        "    assert(contents_cstring[contents.length()] == '\\0');\r\n",
        "}"
      ],
      "execution_count": null,
      "outputs": []
    },
    {
      "cell_type": "code",
      "metadata": {
        "colab": {
          "base_uri": "https://localhost:8080/"
        },
        "id": "IvMuG1BhC-Jg",
        "outputId": "5dde52ed-05d7-482b-99a6-994f807e4bcd"
      },
      "source": [
        "%%script bash\r\n",
        "# compile and run most recently written file\r\n",
        "\r\n",
        "g++ example.cpp -o example\r\n",
        "./example example.cpp"
      ],
      "execution_count": 2,
      "outputs": [
        {
          "output_type": "stream",
          "text": [
            "Read: example.cpp\n",
            "  * 45 lines\n",
            "  * 971 characters (excluding newlines)\n"
          ],
          "name": "stdout"
        }
      ]
    }
  ]
}