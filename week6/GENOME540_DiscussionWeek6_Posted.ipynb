{
  "nbformat": 4,
  "nbformat_minor": 0,
  "metadata": {
    "colab": {
      "name": "GENOME540_DiscussionWeek6_Posted.ipynb",
      "provenance": [],
      "collapsed_sections": [],
      "authorship_tag": "ABX9TyNMsTgs/vrXZlus59xfudev",
      "include_colab_link": true
    },
    "kernelspec": {
      "name": "python3",
      "display_name": "Python 3"
    }
  },
  "cells": [
    {
      "cell_type": "markdown",
      "metadata": {
        "id": "view-in-github",
        "colab_type": "text"
      },
      "source": [
        "<a href=\"https://colab.research.google.com/github/dafaivre/genome540_winter2021/blob/main/week6/GENOME540_DiscussionWeek6_Posted.ipynb\" target=\"_parent\"><img src=\"https://colab.research.google.com/assets/colab-badge.svg\" alt=\"Open In Colab\"/></a>"
      ]
    },
    {
      "cell_type": "markdown",
      "metadata": {
        "id": "Fbu6VcjbfqUH"
      },
      "source": [
        "# **Genome 540 Discussion Week 6**\r\n",
        "\r\n",
        "## created by Dani Faivre - Feb. 10, 2021\r\n",
        "To execute the code blocks below, select with a click and then either press the play button to the left of the code, or use the keyboard shortcut \"Command/Ctrl+Enter\".\r\n",
        "\r\n",
        "These code examples came from:\r\n",
        "* https://www.geeksforgeeks.org/cc-preprocessors/\r\n",
        "* https://www.geeksforgeeks.org/interesting-facts-preprocessors-c/"
      ]
    },
    {
      "cell_type": "markdown",
      "metadata": {
        "id": "B_vgPu95hiGm"
      },
      "source": [
        "### **Preprocessors**\r\n",
        "\r\n",
        "Programs that process our source code before compilation\r\n",
        "\r\n",
        "Preprocessor directives begin with a '#' (hash) symbol\r\n",
        "\r\n",
        "4 main types of preprocessor directives:\r\n",
        "* Macros\r\n",
        "* File Inclusion\r\n",
        "* Conditional Compilation\r\n",
        "* Other directives\r\n",
        "\r\n",
        "\r\n"
      ]
    },
    {
      "cell_type": "markdown",
      "metadata": {
        "id": "alsbH7Iwf5Vg"
      },
      "source": [
        "### **Macros**\r\n",
        "Piece of code in a program which is given some name\r\n",
        "\r\n",
        "When the name is encountered by the compiler, the compiler replaces the name with the actual piece of code\r\n",
        "\r\n",
        "'#define' directive is used to define a macro\r\n",
        "* 'LIMIT' in the macro defintion below is called a macro template\r\n",
        "* '5' is a macro expansion\r\n",
        "\r\n",
        "Macro definitions do not need a semi-colon to end"
      ]
    },
    {
      "cell_type": "code",
      "metadata": {
        "id": "ee8llZZWf5Ai"
      },
      "source": [
        "%%writefile macro.cpp\r\n",
        "#include <iostream>\r\n",
        "\r\n",
        "// macro definition\r\n",
        "#define LIMIT 5\r\n",
        "int main()\r\n",
        "{\r\n",
        "\tfor (int i = 0; i < LIMIT; i++) {\r\n",
        "\t\tstd::cout << i << \"\\n\";\r\n",
        "\t}\r\n",
        "\r\n",
        "\treturn 0;\r\n",
        "}"
      ],
      "execution_count": null,
      "outputs": []
    },
    {
      "cell_type": "code",
      "metadata": {
        "id": "94YRtngN9ZjW"
      },
      "source": [
        "%%script bash\r\n",
        "# compile and run most recently written file\r\n",
        "\r\n",
        "g++ macro.cpp -o macro\r\n",
        "./macro"
      ],
      "execution_count": null,
      "outputs": []
    },
    {
      "cell_type": "markdown",
      "metadata": {
        "id": "w8FT4wEu972M"
      },
      "source": [
        "We can also pass arguments to macros.\r\n",
        "\r\n",
        "Macros defined with arguments are similar to functions."
      ]
    },
    {
      "cell_type": "code",
      "metadata": {
        "id": "YcLYXIBU97VP"
      },
      "source": [
        "%%writefile macro_argument.cpp\r\n",
        "#include <iostream>\r\n",
        " \r\n",
        "// macro with parameter\r\n",
        "#define AREA(l, b) (l * b)\r\n",
        "int main()\r\n",
        "{\r\n",
        "    int l1 = 10, l2 = 5, area;\r\n",
        " \r\n",
        "    area = AREA(l1, l2);\r\n",
        " \r\n",
        "    std::cout << \"Area of rectangle is: \" << area;\r\n",
        " \r\n",
        "    return 0;\r\n",
        "}"
      ],
      "execution_count": null,
      "outputs": []
    },
    {
      "cell_type": "code",
      "metadata": {
        "id": "3miwx-Fy-LAW"
      },
      "source": [
        "%%script bash\r\n",
        "# compile and run most recently written file\r\n",
        "\r\n",
        "g++ macro_argument.cpp -o macro_argument\r\n",
        "./macro_argument"
      ],
      "execution_count": null,
      "outputs": []
    },
    {
      "cell_type": "markdown",
      "metadata": {
        "id": "zlrHF9OA-w4n"
      },
      "source": [
        "Values passed to the macro template AREA(l, b) will also be replaced in the statement (l*b)\r\n",
        "\r\n",
        "Therefore AREA(10, 5) will be equal to 10*5"
      ]
    },
    {
      "cell_type": "markdown",
      "metadata": {
        "id": "L_3cz8zWLt-8"
      },
      "source": [
        "The arguments that are passed to macros are not checked for data type."
      ]
    },
    {
      "cell_type": "code",
      "metadata": {
        "id": "cYBzkM35ME9-"
      },
      "source": [
        "%%writefile increment.cpp\r\n",
        "#include <stdio.h>\r\n",
        "#define INCREMENT(x) ++x\r\n",
        "#pragma GCC diagnostic ignored \"-Wwrite-strings\" //hiding warnings\r\n",
        "int main()\r\n",
        "{\r\n",
        "    char *ptr = \"GeeksQuiz\";\r\n",
        "    int x = 10;\r\n",
        "    printf(\"%s  \", INCREMENT(ptr));\r\n",
        "    printf(\"%d\", INCREMENT(x));\r\n",
        "    return 0;\r\n",
        "}"
      ],
      "execution_count": null,
      "outputs": []
    },
    {
      "cell_type": "code",
      "metadata": {
        "id": "3iRY8VqjMKVd"
      },
      "source": [
        "%%script bash\r\n",
        "# compile and run most recently written file\r\n",
        "\r\n",
        "g++ increment.cpp -o increment\r\n",
        "./increment"
      ],
      "execution_count": null,
      "outputs": []
    },
    {
      "cell_type": "markdown",
      "metadata": {
        "id": "b258a8yNMuKA"
      },
      "source": [
        "They also are not evaluated before macro expansion"
      ]
    },
    {
      "cell_type": "code",
      "metadata": {
        "id": "nuhe8wUuzfta"
      },
      "source": [
        "%%writefile multiply.cpp\r\n",
        "#include <stdio.h>\r\n",
        "#define MULTIPLY(a, b) a*b\r\n",
        "int main()\r\n",
        "{\r\n",
        "    // The macro is expanded as 2 + 3 * 3 + 5, not as 5*8\r\n",
        "    printf(\"%d\", MULTIPLY(2+3, 3+5));\r\n",
        "    return 0;\r\n",
        "}"
      ],
      "execution_count": null,
      "outputs": []
    },
    {
      "cell_type": "code",
      "metadata": {
        "id": "09GEeBXOzrXV"
      },
      "source": [
        "%%script bash\r\n",
        "# compile and run most recently written file\r\n",
        "\r\n",
        "g++ multiply.cpp -o multiply\r\n",
        "./multiply"
      ],
      "execution_count": null,
      "outputs": []
    },
    {
      "cell_type": "markdown",
      "metadata": {
        "id": "prj2HHnk1jVE"
      },
      "source": [
        "This can be fixed with parentheses. "
      ]
    },
    {
      "cell_type": "code",
      "metadata": {
        "id": "CqNI-sG_1RaQ"
      },
      "source": [
        "%%writefile fixed_multiply.cpp\r\n",
        "#include <stdio.h>\r\n",
        "//here, instead of writing a*a we write (a)*(b)\r\n",
        "#define MULTIPLY(a, b) (a)*(b)\r\n",
        "int main()\r\n",
        "{\r\n",
        "    // The macro is expanded as (2 + 3) * (3 + 5), as 5*8\r\n",
        "    printf(\"%d\", MULTIPLY(2+3, 3+5));\r\n",
        "    return 0;\r\n",
        "}"
      ],
      "execution_count": null,
      "outputs": []
    },
    {
      "cell_type": "code",
      "metadata": {
        "id": "piRXXGJP1yIJ"
      },
      "source": [
        "%%script bash\r\n",
        "# compile and run most recently written file\r\n",
        "\r\n",
        "g++ fixed_multiply.cpp -o fixed_multiply\r\n",
        "./fixed_multiply"
      ],
      "execution_count": null,
      "outputs": []
    },
    {
      "cell_type": "markdown",
      "metadata": {
        "id": "o9NqZXdE2REM"
      },
      "source": [
        "Tokens passed to macros can be concatenated using ## (Token-Pasting operator)"
      ]
    },
    {
      "cell_type": "code",
      "metadata": {
        "id": "1SZbNQBz2aVs"
      },
      "source": [
        "%%writefile merge.cpp\r\n",
        "#include <stdio.h>\r\n",
        "#define merge(a, b) a##b\r\n",
        "int main()\r\n",
        "{\r\n",
        "    printf(\"%d \", merge(12, 34));\r\n",
        "}"
      ],
      "execution_count": null,
      "outputs": []
    },
    {
      "cell_type": "code",
      "metadata": {
        "id": "1S7P1g3j2QL-"
      },
      "source": [
        "%%script bash\r\n",
        "# compile and run most recently written file\r\n",
        "\r\n",
        "g++ merge.cpp -o merge\r\n",
        "./merge"
      ],
      "execution_count": null,
      "outputs": []
    },
    {
      "cell_type": "markdown",
      "metadata": {
        "id": "TpfH3gGR3aHw"
      },
      "source": [
        "A token passed to macro can be converted to a string literal by using # before it"
      ]
    },
    {
      "cell_type": "code",
      "metadata": {
        "id": "AokC6jUd3ZOH"
      },
      "source": [
        "%%writefile string.cpp\r\n",
        "#include <stdio.h>\r\n",
        "#define get(a) #a\r\n",
        "int main()\r\n",
        "{\r\n",
        "    // GeeksQuiz is changed to \"GeeksQuiz\"\r\n",
        "    printf(\"%s\", get(GeeksQuiz));\r\n",
        "}"
      ],
      "execution_count": null,
      "outputs": []
    },
    {
      "cell_type": "code",
      "metadata": {
        "id": "BEIu7rHr3jP8"
      },
      "source": [
        "%%script bash\r\n",
        "# compile and run most recently written file\r\n",
        "\r\n",
        "g++ string.cpp -o string\r\n",
        "./string"
      ],
      "execution_count": null,
      "outputs": []
    },
    {
      "cell_type": "markdown",
      "metadata": {
        "id": "STkjC1r13sh_"
      },
      "source": [
        "Macros can be written in multiple lines using ‘\\’ and the last line doesn’t need to have ‘\\’"
      ]
    },
    {
      "cell_type": "code",
      "metadata": {
        "id": "HB0jeWO73vxI"
      },
      "source": [
        "%%writefile multi_line.cpp\r\n",
        "#include <stdio.h>\r\n",
        "#define PRINT(i, limit) while (i < limit) \\\r\n",
        "                        { \\\r\n",
        "                            printf(\"GeeksQuiz \"); \\\r\n",
        "                            i++; \\\r\n",
        "                        }\r\n",
        "int main()\r\n",
        "{\r\n",
        "    int i = 0;\r\n",
        "    PRINT(i, 3);\r\n",
        "    return 0;\r\n",
        "}"
      ],
      "execution_count": null,
      "outputs": []
    },
    {
      "cell_type": "code",
      "metadata": {
        "id": "4DgIFl7w32mg"
      },
      "source": [
        "%%script bash\r\n",
        "# compile and run most recently written file\r\n",
        "\r\n",
        "g++ multi_line.cpp -o multi_line\r\n",
        "./multi_line"
      ],
      "execution_count": null,
      "outputs": []
    },
    {
      "cell_type": "markdown",
      "metadata": {
        "id": "-yo_WAXG5o41"
      },
      "source": [
        "Macros with arguments should be avoided as they cause problems sometimes\r\n",
        "\r\n",
        "Inline functions should be preferred because there is type checking parameter evaluation in inline functions"
      ]
    },
    {
      "cell_type": "code",
      "metadata": {
        "id": "jqgP7JN350-m"
      },
      "source": [
        "%%writefile square.cpp\r\n",
        "#include <stdio.h>\r\n",
        "\r\n",
        "#define square(x) x*x\r\n",
        "int main()\r\n",
        "{\r\n",
        "    // Expanded as 36/6*6\r\n",
        "    int x = 36/square(6); \r\n",
        "    printf(\"%d\", x);\r\n",
        "    return 0;\r\n",
        "}"
      ],
      "execution_count": null,
      "outputs": []
    },
    {
      "cell_type": "code",
      "metadata": {
        "id": "BBpHS42N543o"
      },
      "source": [
        "%%script bash\r\n",
        "# compile and run most recently written file\r\n",
        "\r\n",
        "g++ square.cpp -o square\r\n",
        "./square"
      ],
      "execution_count": null,
      "outputs": []
    },
    {
      "cell_type": "markdown",
      "metadata": {
        "id": "ifVPTAgt64qr"
      },
      "source": [
        "If we use inline functions, we get the expected output"
      ]
    },
    {
      "cell_type": "code",
      "metadata": {
        "id": "p20gkHA26zZS"
      },
      "source": [
        "%%writefile inline_square.cpp\r\n",
        "#include <stdio.h>\r\n",
        " \r\n",
        "static inline int square(int x) { return x*x; }\r\n",
        "int main()\r\n",
        "{\r\n",
        "int x = 36/square(6);\r\n",
        "printf(\"%d\", x);\r\n",
        "return 0;\r\n",
        "}"
      ],
      "execution_count": null,
      "outputs": []
    },
    {
      "cell_type": "code",
      "metadata": {
        "id": "VIrOzI7-63V9"
      },
      "source": [
        "%%script bash\r\n",
        "# compile and run most recently written file\r\n",
        "\r\n",
        "g++ inline_square.cpp -o inline_square\r\n",
        "./inline_square"
      ],
      "execution_count": null,
      "outputs": []
    },
    {
      "cell_type": "markdown",
      "metadata": {
        "id": "85Bq_qTV8jSf"
      },
      "source": [
        "There are some standard macros which can be used to print program file (\\_\\_FILE__), Date of compilation (\\_\\_DATE__), Time of compilation (\\_\\_TIME__) and Line Number (\\_\\_LINE__)"
      ]
    },
    {
      "cell_type": "code",
      "metadata": {
        "id": "_exjMKiu8bSH"
      },
      "source": [
        "%%writefile standard.cpp\r\n",
        "#include <stdio.h>\r\n",
        " \r\n",
        "int main()\r\n",
        "{\r\n",
        "   printf(\"Current File :%s\\n\", __FILE__ );\r\n",
        "   printf(\"Current Date :%s\\n\", __DATE__ );\r\n",
        "   printf(\"Current Time :%s\\n\", __TIME__ );\r\n",
        "   printf(\"Line Number :%d\\n\", __LINE__ );\r\n",
        "   return 0;\r\n",
        "}"
      ],
      "execution_count": null,
      "outputs": []
    },
    {
      "cell_type": "code",
      "metadata": {
        "id": "Z_CLu9jd8drh"
      },
      "source": [
        "%%script bash\r\n",
        "# compile and run most recently written file\r\n",
        "\r\n",
        "g++ standard.cpp -o standard\r\n",
        "./standard"
      ],
      "execution_count": null,
      "outputs": []
    },
    {
      "cell_type": "markdown",
      "metadata": {
        "id": "j26qaSgT6p5c"
      },
      "source": [
        "Macros are useful to make names shorter and avoid runtime overheads\r\n",
        "\r\n",
        "Phil uses them to compute scores\r\n",
        "* Allows him to use same piece of code for integers/floats\r\n",
        "\r\n"
      ]
    },
    {
      "cell_type": "markdown",
      "metadata": {
        "id": "EYvXWopK31UR"
      },
      "source": [
        "### **File Inclusion**\r\n",
        "Tells the compiler to include a file in the source code program\r\n",
        "\r\n",
        "Two types of files that can be included by the user in the program:\r\n",
        "* Header File/Standard files\r\n",
        "* User defined files\r\n",
        "\r\n",
        "#### **Header File/Standard files**\r\n",
        "Contain definition of pre-defined functions\r\n",
        "\r\n",
        "Syntax:\r\n",
        "```\r\n",
        "#include< file_name >\r\n",
        "```\r\n",
        "‘<‘ and ‘>’ brackets tell the compiler to look for the file in standard directory\r\n",
        "\r\n",
        "#### **User defined files**\r\n",
        "\r\n",
        "When a program becomes very large, it is good practice to divide it into smaller files and include what is needed\r\n",
        "\r\n",
        "Syntax:\r\n",
        "```\r\n",
        "#include\"filename\"\r\n",
        "```\r\n",
        "Double quotes instruct the preprocessor to look in the current folder (current directory)"
      ]
    },
    {
      "cell_type": "markdown",
      "metadata": {
        "id": "hqjeoSNyBKbZ"
      },
      "source": [
        "### **Conditional Compilation**\r\n",
        "Helps to compile a specific portion of the program or to skip compilation of some specific part of the program based on some conditions\r\n",
        "\r\n",
        "Syntax:\r\n",
        "\r\n",
        "\r\n",
        "```\r\n",
        "#ifdef macro_name\r\n",
        "    statement1;\r\n",
        "    statement2;\r\n",
        "    statement3;\r\n",
        "    .\r\n",
        "    .\r\n",
        "    .\r\n",
        "    statementN;\r\n",
        "#endif\r\n",
        "```\r\n",
        "If the macro with name as ‘macro_name‘ is defined, then the block of statements will execute normally, but if it is not defined, the compiler will simply skip this block of statements. \r\n",
        "\r\n",
        "A header file may be included more than one time directly or indirectly, which leads to problems of redeclaration of same variables/functions. \r\n",
        "\r\n",
        "To avoid this problem, directives like *\\#defined*, *\\#ifdef* and *\\#ifndef* are used"
      ]
    },
    {
      "cell_type": "markdown",
      "metadata": {
        "id": "dOiaDIDk9x3D"
      },
      "source": [
        "### **Other directives**\r\n",
        "Not commonly used\r\n",
        "\r\n",
        "#### **\\#undef Directive**\r\n",
        "Used to undefine an existing macro\r\n",
        "```\r\n",
        "#undef LIMIT\r\n",
        "```\r\n",
        "After this statement every “#ifdef LIMIT” statement will evaluate to false. "
      ]
    },
    {
      "cell_type": "code",
      "metadata": {
        "id": "P3AlfBzj9zZX"
      },
      "source": [
        "%%writefile undef.cpp\r\n",
        "#include <stdio.h>\r\n",
        "#define LIMIT 100\r\n",
        "int main()\r\n",
        "{\r\n",
        "   printf(\"%d\",LIMIT);\r\n",
        "   //removing defined macro LIMIT\r\n",
        "   #undef LIMIT\r\n",
        "   //Next line causes error as LIMIT is not defined\r\n",
        "   printf(\"%d\",LIMIT);\r\n",
        "   return 0;\r\n",
        "}"
      ],
      "execution_count": null,
      "outputs": []
    },
    {
      "cell_type": "code",
      "metadata": {
        "id": "S3KjXf6W99RT"
      },
      "source": [
        "%%script bash\r\n",
        "# compile and run most recently written file\r\n",
        "\r\n",
        "g++ undef.cpp -o undef\r\n",
        "./undef"
      ],
      "execution_count": null,
      "outputs": []
    },
    {
      "cell_type": "markdown",
      "metadata": {
        "id": "_SLabUxP-AEZ"
      },
      "source": [
        "The program below executes correctly because we have declared LIMIT as an integer variable after removing the macro LIMIT"
      ]
    },
    {
      "cell_type": "code",
      "metadata": {
        "id": "IUMB9NCQ-XzB"
      },
      "source": [
        "%%writefile declare_int.cpp\r\n",
        "include <stdio.h>\r\n",
        "#define LIMIT 1000\r\n",
        "int main()\r\n",
        "{\r\n",
        "   printf(\"%d\",LIMIT);\r\n",
        "   //removing defined macro LIMIT\r\n",
        "   #undef LIMIT\r\n",
        "   //Declare LIMIT as integer again\r\n",
        "   int LIMIT=1001;\r\n",
        "   printf(\"\\n%d\",LIMIT);\r\n",
        "   return 0;\r\n",
        "}"
      ],
      "execution_count": null,
      "outputs": []
    },
    {
      "cell_type": "code",
      "metadata": {
        "id": "OhiWpYfV-Y5P"
      },
      "source": [
        "%%script bash\r\n",
        "# compile and run most recently written file\r\n",
        "\r\n",
        "g++ declare_int.cpp -o declare_int\r\n",
        "./declare_int"
      ],
      "execution_count": null,
      "outputs": []
    },
    {
      "cell_type": "markdown",
      "metadata": {
        "id": "CdNnwTI8-d4B"
      },
      "source": [
        "Another interesting example:"
      ]
    },
    {
      "cell_type": "code",
      "metadata": {
        "id": "7ADCO6uy9tz8"
      },
      "source": [
        "%%writefile div.cpp\r\n",
        "#include <stdio.h>\r\n",
        "//div function prototype\r\n",
        "float div(float, float);\r\n",
        "#define div(x, y) x/y\r\n",
        " \r\n",
        "int main()\r\n",
        "{\r\n",
        "//use of macro div\r\n",
        "//Note: %0.2f for taking two decimal value after point\r\n",
        "printf(\"%0.2f\",div(10.0,5.0));\r\n",
        "//removing defined macro div\r\n",
        "#undef div\r\n",
        "//function div is called because macro definition is removed\r\n",
        "printf(\"\\n%0.2f\",div(10.0,5.0));\r\n",
        "return 0;\r\n",
        "}\r\n",
        " \r\n",
        "//div function definition\r\n",
        "float div(float x, float y){\r\n",
        "return y/x;\r\n",
        "}"
      ],
      "execution_count": null,
      "outputs": []
    },
    {
      "cell_type": "code",
      "metadata": {
        "id": "kTFfcB_w-3Ik"
      },
      "source": [
        "%%script bash\r\n",
        "# compile and run most recently written file\r\n",
        "\r\n",
        "g++ div.cpp -o div\r\n",
        "./div"
      ],
      "execution_count": null,
      "outputs": []
    },
    {
      "cell_type": "markdown",
      "metadata": {
        "id": "kMlfCTkaDmEA"
      },
      "source": [
        "#### **\\#pragma Directive**\r\n",
        "Used to turn on or off some features (compiler-specific)\r\n",
        "\r\n",
        "* #pragma startup: helps specify the functions that are needed to run before program startup (before the control passes to main()) \r\n",
        "\r\n",
        "* #pragma exit: helps specify the functions that are needed to run just before program exit (just before the control returns from main())\r\n",
        "\r\n",
        "#### **\\#pragma warn Directive**\r\n",
        "Used to hide the warning messages that are displayed during compilation\r\n",
        "\r\n",
        "* #pragma warn -rvl: hides warning that a function which is supposed to return a value does not return a value\r\n",
        "* #pragma warn -par: hides warning when a function does not use the parameters passed to it\r\n",
        "* #pragma warn -rch: hides warning when a code is unreachable (e.g., any code written after the return statement in a function is unreachable)"
      ]
    },
    {
      "cell_type": "markdown",
      "metadata": {
        "id": "C7CGDA0V3kMY"
      },
      "source": [
        "##   \r\n"
      ]
    }
  ]
}