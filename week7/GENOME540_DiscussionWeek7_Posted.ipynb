{
  "nbformat": 4,
  "nbformat_minor": 0,
  "metadata": {
    "colab": {
      "name": "GENOME540_DiscussionWeek7_Posted.ipynb",
      "provenance": [],
      "collapsed_sections": [],
      "authorship_tag": "ABX9TyO+KX9Q3vZFhvql8yyPJ7J2",
      "include_colab_link": true
    },
    "kernelspec": {
      "name": "python3",
      "display_name": "Python 3"
    }
  },
  "cells": [
    {
      "cell_type": "markdown",
      "metadata": {
        "id": "view-in-github",
        "colab_type": "text"
      },
      "source": [
        "<a href=\"https://colab.research.google.com/github/dafaivre/genome540_winter2021/blob/main/week7/GENOME540_DiscussionWeek7_Posted.ipynb\" target=\"_parent\"><img src=\"https://colab.research.google.com/assets/colab-badge.svg\" alt=\"Open In Colab\"/></a>"
      ]
    },
    {
      "cell_type": "markdown",
      "metadata": {
        "id": "Fbu6VcjbfqUH"
      },
      "source": [
        "# **Genome 540 Discussion Week 7**\r\n",
        "\r\n",
        "## created by Dani Faivre - Feb. 16, 2021\r\n",
        "To execute the code blocks below, select with a click and then either press the play button to the left of the code, or use the keyboard shortcut \"Command/Ctrl+Enter\".\r\n",
        "\r\n",
        "These code examples came from:\r\n",
        "* https://www.geeksforgeeks.org/templates-cpp/\r\n",
        "* https://www.geeksforgeeks.org/template-specialization-c/"
      ]
    },
    {
      "cell_type": "markdown",
      "metadata": {
        "id": "B_vgPu95hiGm"
      },
      "source": [
        "### **Templates**\r\n",
        "\r\n",
        "Idea is to pass data type as a parameter so we do not need to write the same code for different data types (e.g., sort(), max(), min(), etc.)\r\n",
        "\r\n",
        "C++ adds two new keywords to support templates: ‘template’ and ‘typename’\r\n",
        "* 'typename' can be replaced by keyword 'class'\r\n",
        "\r\n",
        "Templates are expanded at compiler time (like macros)\r\n",
        "\r\n",
        "Unlike macros, the compiler does type checking before template expansion"
      ]
    },
    {
      "cell_type": "markdown",
      "metadata": {
        "id": "lRNBqYpIqC1Z"
      },
      "source": [
        "#### **Function Templates**\r\n",
        "\r\n",
        "Write a generic function that can be used for different data types"
      ]
    },
    {
      "cell_type": "code",
      "metadata": {
        "id": "PrAJSHcZje5u"
      },
      "source": [
        "%%writefile fun_template.cpp\r\n",
        "#include<iostream>\r\n",
        "using namespace std;\r\n",
        "\r\n",
        "//write template\r\n",
        "template <typename T>\r\n",
        "T myMax(T x, T y)\r\n",
        "{\r\n",
        "    return(x > y)? x: y;\r\n",
        "}\r\n",
        "\r\n",
        "int main()\r\n",
        "{\r\n",
        "  cout << myMax<int>(3,7) << endl;\r\n",
        "  cout << myMax<double>(5.0, 3.0) << endl;\r\n",
        "  cout << myMax<char>('g','e') << endl;\r\n",
        "  return 0;\r\n",
        "}"
      ],
      "execution_count": null,
      "outputs": []
    },
    {
      "cell_type": "code",
      "metadata": {
        "id": "lsCEDdlxjgxM"
      },
      "source": [
        "%%script bash\r\n",
        "# compile and run most recently written file\r\n",
        "\r\n",
        "g++ fun_template.cpp -o fun_template\r\n",
        "./fun_template"
      ],
      "execution_count": null,
      "outputs": []
    },
    {
      "cell_type": "code",
      "metadata": {
        "id": "KiRudXnaltAk"
      },
      "source": [
        "%%writefile bubble_sort.cpp\r\n",
        "// CPP code for bubble sort \r\n",
        "// using template function \r\n",
        "#include <iostream> \r\n",
        "using namespace std; \r\n",
        "   \r\n",
        "// We can use this for any data type that supports \r\n",
        "// comparison operator < and swap works for it. \r\n",
        "template <class T> \r\n",
        "void bubbleSort(T a[], int n) { \r\n",
        "    for (int i = 0; i < n - 1; i++) {\r\n",
        "        for (int j = n - 1; i < j; j--) {\r\n",
        "            if (a[j] < a[j - 1]) {\r\n",
        "              swap(a[j], a[j - 1]); \r\n",
        "            }\r\n",
        "        }\r\n",
        "        cout << \"Pass \" << i+1 << \": \";\r\n",
        "        for (int i = 0; i < n; i++) \r\n",
        "          cout << a[i] << \" \"; \r\n",
        "        cout << endl; \r\n",
        "    }\r\n",
        "} \r\n",
        "   \r\n",
        "// Driver Code \r\n",
        "int main() { \r\n",
        "    int a[5] = {10, 50, 30, 40, 20}; \r\n",
        "    int n = sizeof(a) / sizeof(a[0]); \r\n",
        "   \r\n",
        "    // calls template function  \r\n",
        "    bubbleSort<int>(a, 5); \r\n",
        "   \r\n",
        "    cout << \" Sorted array: \"; \r\n",
        "    for (int i = 0; i < n; i++) \r\n",
        "        cout << a[i] << \" \"; \r\n",
        "    cout << endl; \r\n",
        "   \r\n",
        "  return 0; \r\n",
        "} "
      ],
      "execution_count": null,
      "outputs": []
    },
    {
      "cell_type": "code",
      "metadata": {
        "id": "1xqOlD7ymU8b"
      },
      "source": [
        "%%script bash\r\n",
        "# compile and run most recently written file\r\n",
        "\r\n",
        "g++ bubble_sort.cpp -o bubble_sort\r\n",
        "./bubble_sort"
      ],
      "execution_count": null,
      "outputs": []
    },
    {
      "cell_type": "markdown",
      "metadata": {
        "id": "dy874zv5p-zn"
      },
      "source": [
        "#### **Class Templates**\r\n",
        "\r\n",
        "Useful when a class defines something that is independent of the data type\r\n",
        "\r\n",
        "Can be useful for classes like LinkedList, BinaryTree, Stack, Queue, Array, etc."
      ]
    },
    {
      "cell_type": "code",
      "metadata": {
        "id": "nBjAVmK3qh45"
      },
      "source": [
        "%%writefile array.cpp\r\n",
        "#include <iostream> \r\n",
        "using namespace std; \r\n",
        "  \r\n",
        "template <typename T> \r\n",
        "class Array { \r\n",
        "private: \r\n",
        "    T *ptr; \r\n",
        "    int size; \r\n",
        "public: \r\n",
        "    Array(T arr[], int s); \r\n",
        "    void print(); \r\n",
        "}; \r\n",
        "  \r\n",
        "template <typename T> \r\n",
        "Array<T>::Array(T arr[], int s) { \r\n",
        "    ptr = new T[s]; \r\n",
        "    size = s; \r\n",
        "    for(int i = 0; i < size; i++) \r\n",
        "        ptr[i] = arr[i]; \r\n",
        "} \r\n",
        "  \r\n",
        "template <typename T> \r\n",
        "void Array<T>::print() { \r\n",
        "    for (int i = 0; i < size; i++) \r\n",
        "        cout<<\" \"<<*(ptr + i); \r\n",
        "    cout<<endl; \r\n",
        "} \r\n",
        "  \r\n",
        "int main() { \r\n",
        "    int arr[5] = {1, 2, 3, 4, 5}; \r\n",
        "    Array<int> a(arr, 5); \r\n",
        "    a.print(); \r\n",
        "    return 0; \r\n",
        "} "
      ],
      "execution_count": null,
      "outputs": []
    },
    {
      "cell_type": "code",
      "metadata": {
        "id": "BhM7FPLyqiea"
      },
      "source": [
        "%%script bash\r\n",
        "# compile and run most recently written file\r\n",
        "\r\n",
        "g++ array.cpp -o array\r\n",
        "./array"
      ],
      "execution_count": null,
      "outputs": []
    },
    {
      "cell_type": "markdown",
      "metadata": {
        "id": "lBKzt7ekr9X_"
      },
      "source": [
        "We can pass more than one data type as arguments to templates"
      ]
    },
    {
      "cell_type": "code",
      "metadata": {
        "id": "a9Dr09h7sB7S"
      },
      "source": [
        "%%writefile multi_arg.cpp\r\n",
        "#include<iostream> \r\n",
        "using namespace std; \r\n",
        "  \r\n",
        "template<class T, class U> \r\n",
        "class A  { \r\n",
        "    T x; \r\n",
        "    U y; \r\n",
        "public: \r\n",
        "    A() {    cout<<\"Constructor Called\"<<endl;   } \r\n",
        "}; \r\n",
        "  \r\n",
        "int main()  { \r\n",
        "   A<char, char> a; \r\n",
        "   A<int, double> b; \r\n",
        "   return 0; \r\n",
        "} "
      ],
      "execution_count": null,
      "outputs": []
    },
    {
      "cell_type": "code",
      "metadata": {
        "id": "yfGPnyJ-sTzz"
      },
      "source": [
        "%%script bash\r\n",
        "# compile and run most recently written file\r\n",
        "\r\n",
        "g++ multi_arg.cpp -o multi_arg\r\n",
        "./multi_arg"
      ],
      "execution_count": null,
      "outputs": []
    },
    {
      "cell_type": "markdown",
      "metadata": {
        "id": "ky-U2I-uscQm"
      },
      "source": [
        "We can also specify default arguments to templates"
      ]
    },
    {
      "cell_type": "code",
      "metadata": {
        "id": "8aS0lZQvsbuk"
      },
      "source": [
        "%%writefile default_arg.cpp\r\n",
        "#include<iostream> \r\n",
        "using namespace std; \r\n",
        "  \r\n",
        "template<class T, class U = char> \r\n",
        "class A  { \r\n",
        "public: \r\n",
        "    T x; \r\n",
        "    U y; \r\n",
        "    A() {   cout<<\"Constructor Called\"<<endl;   } \r\n",
        "}; \r\n",
        "  \r\n",
        "int main()  { \r\n",
        "   A<char> a;  // This will call A<char, char>    \r\n",
        "   return 0; \r\n",
        "} "
      ],
      "execution_count": null,
      "outputs": []
    },
    {
      "cell_type": "code",
      "metadata": {
        "id": "t4PbrNu9sbq6"
      },
      "source": [
        "%%script bash\r\n",
        "# compile and run most recently written file\r\n",
        "\r\n",
        "g++ default_arg.cpp -o default_arg\r\n",
        "./default_arg"
      ],
      "execution_count": null,
      "outputs": []
    },
    {
      "cell_type": "markdown",
      "metadata": {
        "id": "MdtN0wdVsyx0"
      },
      "source": [
        "Templates are used when multiple functions do identical operations.\r\n",
        "\r\n",
        "Function overloading is used when multiple functions do similar operations.\r\n",
        "\r\n",
        "We can pass non-type arguments to templates as long as they are const.\r\n",
        "* Non-type parameters are mainly used for specifying max or min values"
      ]
    },
    {
      "cell_type": "code",
      "metadata": {
        "id": "dVgf_UX7ujNX"
      },
      "source": [
        "%%writefile non_type.cpp\r\n",
        "// A C++ program to demonstrate working of non-type \r\n",
        "// parameters to templates in C++. \r\n",
        "#include <iostream> \r\n",
        "using namespace std; \r\n",
        "   \r\n",
        "template <class T, int max> \r\n",
        "int arrMin(T arr[], int n) \r\n",
        "{ \r\n",
        "   int m = max; \r\n",
        "   for (int i = 0; i < n; i++) \r\n",
        "      if (arr[i] < m) \r\n",
        "         m = arr[i]; \r\n",
        "   \r\n",
        "   return m; \r\n",
        "} \r\n",
        "   \r\n",
        "int main() \r\n",
        "{ \r\n",
        "   int arr1[]  = {10, 20, 15, 12}; \r\n",
        "   int n1 = sizeof(arr1)/sizeof(arr1[0]); \r\n",
        "   \r\n",
        "   char arr2[] = {1, 2, 3}; \r\n",
        "   int n2 = sizeof(arr2)/sizeof(arr2[0]); \r\n",
        "   \r\n",
        "   // Second template parameter to arrMin must be a constant \r\n",
        "   cout << arrMin<int, 10000>(arr1, n1) << endl; \r\n",
        "   cout << arrMin<char, 256>(arr2, n2); \r\n",
        "   return 0; \r\n",
        "} "
      ],
      "execution_count": null,
      "outputs": []
    },
    {
      "cell_type": "code",
      "metadata": {
        "id": "0qxvz6K3umZ8"
      },
      "source": [
        "%%script bash\r\n",
        "# compile and run most recently written file\r\n",
        "\r\n",
        "g++ non_type.cpp -o non_type\r\n",
        "./non_type"
      ],
      "execution_count": null,
      "outputs": []
    },
    {
      "cell_type": "markdown",
      "metadata": {
        "id": "mk6I6OLl3p4y"
      },
      "source": [
        "#### **Template Specialization in C++**\r\n",
        "\r\n",
        "Template specialization allows us to have different code for a particular data type.\r\n",
        "\r\n",
        "\r\n",
        "\r\n",
        "```\r\n",
        "// A generic sort function  \r\n",
        "template <class T> \r\n",
        "void sort(T arr[], int size) \r\n",
        "{ \r\n",
        "    // code to implement Quick Sort \r\n",
        "} \r\n",
        "  \r\n",
        "// Template Specialization: A function  \r\n",
        "// specialized for char data type \r\n",
        "template <> \r\n",
        "void sort<char>(char arr[], int size) \r\n",
        "{ \r\n",
        "    // code to implement counting sort \r\n",
        "} \r\n",
        "```\r\n",
        "\r\n"
      ]
    },
    {
      "cell_type": "markdown",
      "metadata": {
        "id": "lGaQdv6Z5BSz"
      },
      "source": [
        "**An example of function template specialization:**"
      ]
    },
    {
      "cell_type": "code",
      "metadata": {
        "id": "eYTkHh5a333R"
      },
      "source": [
        "%%writefile fun_special.cpp\r\n",
        "#include <iostream> \r\n",
        "using namespace std; \r\n",
        "  \r\n",
        "template <class T> \r\n",
        "void fun(T a) \r\n",
        "{ \r\n",
        "   cout << \"The main template fun(): \" \r\n",
        "        << a << endl; \r\n",
        "} \r\n",
        "  \r\n",
        "template<> \r\n",
        "void fun(int a) \r\n",
        "{ \r\n",
        "    cout << \"Specialized Template for int type: \"\r\n",
        "         << a << endl; \r\n",
        "} \r\n",
        "  \r\n",
        "int main() \r\n",
        "{ \r\n",
        "    fun<char>('a'); \r\n",
        "    fun<int>(10); \r\n",
        "    fun<float>(10.14); \r\n",
        "} "
      ],
      "execution_count": null,
      "outputs": []
    },
    {
      "cell_type": "code",
      "metadata": {
        "id": "7oGgzil65fkh"
      },
      "source": [
        "%%script bash\r\n",
        "# compile and run most recently written file\r\n",
        "\r\n",
        "g++ fun_special.cpp -o fun_special\r\n",
        "./fun_special"
      ],
      "execution_count": null,
      "outputs": []
    },
    {
      "cell_type": "markdown",
      "metadata": {
        "id": "95xiAZ-s50-t"
      },
      "source": [
        "**An example of class template specialization:**"
      ]
    },
    {
      "cell_type": "code",
      "metadata": {
        "id": "og2QpYhk5416"
      },
      "source": [
        "%%writefile class_special.cpp\r\n",
        "#include <iostream> \r\n",
        "using namespace std; \r\n",
        "  \r\n",
        "template <class T> \r\n",
        "class Test \r\n",
        "{ \r\n",
        "  // Data members of test \r\n",
        "public: \r\n",
        "   Test() \r\n",
        "   { \r\n",
        "       // Initialization of data members \r\n",
        "       cout << \"General template object \\n\"; \r\n",
        "   } \r\n",
        "   // Other methods of Test \r\n",
        "}; \r\n",
        "  \r\n",
        "template <> \r\n",
        "class Test <int> \r\n",
        "{ \r\n",
        "public: \r\n",
        "   Test() \r\n",
        "   { \r\n",
        "       // Initialization of data members \r\n",
        "       cout << \"Specialized template object\\n\"; \r\n",
        "   } \r\n",
        "}; \r\n",
        "  \r\n",
        "int main() \r\n",
        "{ \r\n",
        "    Test<int> a; \r\n",
        "    Test<char> b; \r\n",
        "    Test<float> c; \r\n",
        "    return 0; \r\n",
        "} "
      ],
      "execution_count": null,
      "outputs": []
    },
    {
      "cell_type": "code",
      "metadata": {
        "id": "s9jnPk5u59Jp"
      },
      "source": [
        "%%script bash\r\n",
        "# compile and run most recently written file\r\n",
        "\r\n",
        "g++ class_special.cpp -o class_special\r\n",
        "./class_special"
      ],
      "execution_count": null,
      "outputs": []
    },
    {
      "cell_type": "markdown",
      "metadata": {
        "id": "GNjUGR0I6JAL"
      },
      "source": [
        "When we write any template based function or class, the compiler creates a copy of that function/class whenever a new data type or new set of data types(in case of multiple template arguments) are used.\r\n",
        "\r\n",
        "If a specialized version is present, the compiler first checks with the specialized version and then the main template. "
      ]
    },
    {
      "cell_type": "markdown",
      "metadata": {
        "id": "C7CGDA0V3kMY"
      },
      "source": [
        "##   \r\n"
      ]
    }
  ]
}