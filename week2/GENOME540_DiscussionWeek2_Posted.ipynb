{
  "nbformat": 4,
  "nbformat_minor": 0,
  "metadata": {
    "colab": {
      "name": "GENOME540_DiscussionWeek2_Posted.ipynb",
      "provenance": [],
      "collapsed_sections": [],
      "authorship_tag": "ABX9TyN3TEVuQ9B2svVBP7Z4owJ6",
      "include_colab_link": true
    },
    "kernelspec": {
      "name": "python3",
      "display_name": "Python 3"
    }
  },
  "cells": [
    {
      "cell_type": "markdown",
      "metadata": {
        "id": "view-in-github",
        "colab_type": "text"
      },
      "source": [
        "<a href=\"https://colab.research.google.com/github/dafaivre/genome540_winter2021/blob/main/week2/GENOME540_DiscussionWeek2_Posted.ipynb\" target=\"_parent\"><img src=\"https://colab.research.google.com/assets/colab-badge.svg\" alt=\"Open In Colab\"/></a>"
      ]
    },
    {
      "cell_type": "markdown",
      "metadata": {
        "id": "Fbu6VcjbfqUH"
      },
      "source": [
        "# **Genome 540 Discussion Week 2**\r\n",
        "\r\n",
        "## created by Dani Faivre - Jan. 14, 2021\r\n",
        "To execute the code blocks below, select with a click and then either press the play button to the left of the code, or use the keyboard shortcut \"Command/Ctrl+Enter\"."
      ]
    },
    {
      "cell_type": "markdown",
      "metadata": {
        "id": "B_vgPu95hiGm"
      },
      "source": [
        "### **Stack vs Heap**\r\n",
        "\r\n",
        "Variables created on the stack will go out of scope and are automatically deallocated\r\n",
        "\r\n",
        "Variables on the heap must be destroyed manually\r\n"
      ]
    },
    {
      "cell_type": "code",
      "metadata": {
        "id": "YwVWhXCkfhT_"
      },
      "source": [
        "//# Originally show students this example without notes\r\n",
        "//# do not need to run\r\n",
        "int foo()\r\n",
        "{\r\n",
        "  char *pBuffer; //<--nothing allocated yet \r\n",
        "  //(excluding the pointer itself, which is allocated on the stack).\r\n",
        "  bool b = true; // Allocated on the stack.\r\n",
        "  if(b)\r\n",
        "  {\r\n",
        "    //Create 500 bytes on the stack\r\n",
        "    char buffer[500];\r\n",
        "\r\n",
        "    //Create 500 bytes on the heap\r\n",
        "    pBuffer = new char[500];\r\n",
        "\r\n",
        "   }//<-- buffer is deallocated here, pBuffer is not\r\n",
        "}//<--- oops there's a memory leak, should have called delete[] pBuffer;"
      ],
      "execution_count": null,
      "outputs": []
    },
    {
      "cell_type": "markdown",
      "metadata": {
        "id": "alsbH7Iwf5Vg"
      },
      "source": [
        "### **Stack overflow**\r\n",
        "Most commonly caused by infinite recursion.\r\n",
        "\r\n",
        " - where a function calls itself so many times that the space needed to store the variables and information associated with each call is more than can fit on the stack"
      ]
    },
    {
      "cell_type": "code",
      "metadata": {
        "id": "ee8llZZWf5Ai"
      },
      "source": [
        "//# example of infinite recursion\r\n",
        "//# do not need to run\r\n",
        "int foo() \r\n",
        "{\r\n",
        "     return foo();\r\n",
        "}"
      ],
      "execution_count": null,
      "outputs": []
    },
    {
      "cell_type": "markdown",
      "metadata": {
        "id": "EYvXWopK31UR"
      },
      "source": [
        "### **Arrays vs Vectors**\r\n",
        "Arrays have a fixed size\r\n",
        "\r\n",
        "Vector lengths are dynamic"
      ]
    },
    {
      "cell_type": "code",
      "metadata": {
        "id": "p0Axr6nb7OLi"
      },
      "source": [
        "//# example of an array\r\n",
        "//# do not need to run\r\n",
        "int myArray[100];\r\n",
        "myArray[0]=1;\r\n",
        "myArray[1]=2;\r\n",
        "myArray[2]=3;"
      ],
      "execution_count": null,
      "outputs": []
    },
    {
      "cell_type": "code",
      "metadata": {
        "id": "jyqJquJL7all"
      },
      "source": [
        "//# example of a vector\r\n",
        "//# do not need to run\r\n",
        "vector<int> myVector;\r\n",
        "myVector.push_back(1);\r\n",
        "myVector.push_back(2);\r\n",
        "myVector.push_back(3);"
      ],
      "execution_count": null,
      "outputs": []
    },
    {
      "cell_type": "markdown",
      "metadata": {
        "id": "4usTYgRY4W6d"
      },
      "source": [
        "### Constructors\r\n",
        "\r\n",
        "For arrays of objects, the object class must have a default constructor\r\n",
        "\r\n",
        "For vectors of objects, the objects do not require a default constructor"
      ]
    },
    {
      "cell_type": "code",
      "metadata": {
        "colab": {
          "base_uri": "https://localhost:8080/"
        },
        "id": "IMe0or3r86J6",
        "outputId": "60c04c80-5675-4114-e13f-44d04ff70f3f"
      },
      "source": [
        "%%writefile construct.cpp\r\n",
        "//#array of objects with default constructor\r\n",
        "\r\n",
        "#include <iostream>\r\n",
        "#include <string.h>\r\n",
        "#pragma GCC diagnostic push //hiding warnings\r\n",
        "#pragma GCC diagnostic ignored \"-Wwrite-strings\" //hiding warnings\r\n",
        "\r\n",
        "using namespace std;\r\n",
        "\r\n",
        "class person\r\n",
        "{\r\n",
        "\tprivate:\r\n",
        "\t\tchar name[50];\r\n",
        "\t\tint age;\r\n",
        "\tpublic:\r\n",
        "\t\t//default constructor\r\n",
        "\t\tperson()\r\n",
        "\t\t{\r\n",
        "\t\t\tstrcpy(name,\"N/A\");\r\n",
        "\t\t\tage=7;\r\n",
        "\t\t}\r\n",
        "\t\t\r\n",
        "\t\t//parameterized constructor with default argument\r\n",
        "\t\tperson(char *name, int age=18)\r\n",
        "\t\t{\r\n",
        "\t\t\tstrcpy(this->name,name);\r\n",
        "\t\t\tthis->age=age;\r\n",
        "\t\t}\r\n",
        "\t\t\r\n",
        "\t\t//function to display values\r\n",
        "\t\tvoid display()\r\n",
        "\t\t{\r\n",
        "\t\t\tcout<<name<<\"\\t\"<<age<<endl;\r\n",
        "\t\t}\t\t\r\n",
        "};\r\n",
        "\r\n",
        "\r\n",
        "\r\n",
        "int main()\r\n",
        "{\r\n",
        "\t//array of class objects declaration\r\n",
        "\tperson per[4]={\"ABC\",person(\"PQR\"),person(\"XYZ\",30)};\r\n",
        "\t\r\n",
        "\tper[0].display();\r\n",
        "\tper[1].display();\r\n",
        "\tper[2].display();\r\n",
        "\tper[3].display();\r\n",
        "\t\r\n",
        "\treturn 0;\r\n",
        "}\r\n",
        "\r\n",
        "#pragma GCC diagnostic pop //hiding warnings"
      ],
      "execution_count": 1,
      "outputs": [
        {
          "output_type": "stream",
          "text": [
            "Writing construct.cpp\n"
          ],
          "name": "stdout"
        }
      ]
    },
    {
      "cell_type": "code",
      "metadata": {
        "colab": {
          "base_uri": "https://localhost:8080/"
        },
        "id": "Fz5yi2RZC-gY",
        "outputId": "91294684-1d8f-405f-d452-747d488d1a88"
      },
      "source": [
        "%%script bash\r\n",
        "# compile and run most recently written file\r\n",
        "\r\n",
        "g++ construct.cpp -o construct\r\n",
        "./construct"
      ],
      "execution_count": 2,
      "outputs": [
        {
          "output_type": "stream",
          "text": [
            "ABC\t18\n",
            "PQR\t18\n",
            "XYZ\t30\n",
            "N/A\t7\n"
          ],
          "name": "stdout"
        }
      ]
    },
    {
      "cell_type": "code",
      "metadata": {
        "colab": {
          "base_uri": "https://localhost:8080/"
        },
        "id": "Uk2GFDbXGYon",
        "outputId": "b3fcf5c7-523f-46af-a19c-39b931040725"
      },
      "source": [
        "%%writefile no_default.cpp\r\n",
        "//#array of objects without default constructor\r\n",
        "\r\n",
        "#include <iostream>\r\n",
        "#include <string.h>\r\n",
        "#pragma GCC diagnostic push //hiding warnings\r\n",
        "#pragma GCC diagnostic ignored \"-Wwrite-strings\" //hiding warnings\r\n",
        "\r\n",
        "using namespace std;\r\n",
        "\r\n",
        "class person\r\n",
        "{\r\n",
        "\tprivate:\r\n",
        "\t\tchar name[50];\r\n",
        "\t\tint age;\r\n",
        "\tpublic:\t\r\n",
        "\t\t//parameterized constructor with default argument\r\n",
        "\t\tperson(char *name, int age=18)\r\n",
        "\t\t{\r\n",
        "\t\t\tstrcpy(this->name,name);\r\n",
        "\t\t\tthis->age=age;\r\n",
        "\t\t}\r\n",
        "\t\t\r\n",
        "\t\t//function to display values\r\n",
        "\t\tvoid display()\r\n",
        "\t\t{\r\n",
        "\t\t\tcout<<name<<\"\\t\"<<age<<endl;\r\n",
        "\t\t}\t\t\r\n",
        "};\r\n",
        "\r\n",
        "\r\n",
        "\r\n",
        "int main()\r\n",
        "{\r\n",
        "\t//array of class objects declaration\r\n",
        "\tperson per[4]={\"ABC\",person(\"PQR\"),person(\"XYZ\",30)};\r\n",
        "\t\r\n",
        "\tper[0].display();\r\n",
        "\tper[1].display();\r\n",
        "\tper[2].display();\r\n",
        "\tper[3].display();\r\n",
        "\t\r\n",
        "\treturn 0;\r\n",
        "}\r\n",
        "\r\n",
        "#pragma GCC diagnostic pop //hiding warnings"
      ],
      "execution_count": 3,
      "outputs": [
        {
          "output_type": "stream",
          "text": [
            "Writing no_default.cpp\n"
          ],
          "name": "stdout"
        }
      ]
    },
    {
      "cell_type": "code",
      "metadata": {
        "colab": {
          "base_uri": "https://localhost:8080/"
        },
        "id": "b2gHFMbX9MMt",
        "outputId": "03753cc1-aa08-414e-9389-65aec0d03ba5"
      },
      "source": [
        "%%script bash\r\n",
        "# compile and run most recently written file\r\n",
        "\r\n",
        "g++ no_default.cpp -o no_default\r\n",
        "./no_default"
      ],
      "execution_count": 4,
      "outputs": [
        {
          "output_type": "stream",
          "text": [
            "no_default.cpp: In function ‘int main()’:\n",
            "no_default.cpp:35:53: error: could not convert ‘<brace-enclosed initializer list>()’ from ‘<brace-enclosed initializer list>’ to ‘person’\n",
            "  person per[4]={\"ABC\",person(\"PQR\"),person(\"XYZ\",30)};\n",
            "                                                     ^\n",
            "bash: line 4: ./no_default: No such file or directory\n"
          ],
          "name": "stderr"
        }
      ]
    },
    {
      "cell_type": "code",
      "metadata": {
        "colab": {
          "base_uri": "https://localhost:8080/"
        },
        "id": "bmsn9WxAClzv",
        "outputId": "bad700b1-01a5-441e-d184-660c933c520a"
      },
      "source": [
        "%%writefile vec_nodefault.cpp\r\n",
        "//#vector of objects without default constructor\r\n",
        "\r\n",
        "#include <iostream>\r\n",
        "#include <string.h>\r\n",
        "#include <vector>\r\n",
        "#pragma GCC diagnostic push //hiding warnings\r\n",
        "#pragma GCC diagnostic ignored \"-Wwrite-strings\" //hiding warnings\r\n",
        "\r\n",
        "using namespace std;\r\n",
        "\r\n",
        "class person\r\n",
        "{\r\n",
        "\tprivate:\r\n",
        "\t\tchar name[50];\r\n",
        "\t\tint age;\r\n",
        "\tpublic:\r\n",
        "\t\t//parameterized constructor with default argument\r\n",
        "\t\tperson(char *name, int age=18)\r\n",
        "\t\t{\r\n",
        "\t\t\tstrcpy(this->name,name);\r\n",
        "\t\t\tthis->age=age;\r\n",
        "\t\t}\r\n",
        "\t\t\r\n",
        "\t\t//function to display values\r\n",
        "\t\tvoid display()\r\n",
        "\t\t{\r\n",
        "\t\t\tcout<<name<<\"\\t\"<<age<<endl;\r\n",
        "\t\t}\t\t\r\n",
        "};\r\n",
        "\r\n",
        "int main()\r\n",
        "{\r\n",
        "\t//array of class objects declaration\r\n",
        "\tvector<person> per={\"ABC\",\"PQR\",\"XYZ\"};\r\n",
        "\t\r\n",
        "\tper[0].display();\r\n",
        "\tper[1].display();\r\n",
        "\tper[2].display();\r\n",
        "\tper[3].display();\r\n",
        "\t\r\n",
        "\treturn 0;\r\n",
        "}"
      ],
      "execution_count": 5,
      "outputs": [
        {
          "output_type": "stream",
          "text": [
            "Writing vec_nodefault.cpp\n"
          ],
          "name": "stdout"
        }
      ]
    },
    {
      "cell_type": "code",
      "metadata": {
        "colab": {
          "base_uri": "https://localhost:8080/"
        },
        "id": "qPGcXt_XGvgS",
        "outputId": "d3c38993-b37d-483e-8b4d-79b842966ce6"
      },
      "source": [
        "%%script bash\r\n",
        "# compile and run most recently written file\r\n",
        "\r\n",
        "g++ vec_nodefault.cpp -o vec_nodefault\r\n",
        "./vec_nodefault"
      ],
      "execution_count": 6,
      "outputs": [
        {
          "output_type": "stream",
          "text": [
            "ABC\t18\n",
            "PQR\t18\n",
            "XYZ\t18\n",
            "\t0\n"
          ],
          "name": "stdout"
        }
      ]
    },
    {
      "cell_type": "markdown",
      "metadata": {
        "id": "EEtxbQrh4E23"
      },
      "source": [
        "### **Sorting & Comparators**\r\n",
        "\r\n",
        "In Structure sorting, all the respective properties possessed by the structure object are sorted on the basis of one (or more) property of the object."
      ]
    },
    {
      "cell_type": "code",
      "metadata": {
        "colab": {
          "base_uri": "https://localhost:8080/"
        },
        "id": "oS4E1drDHqHD",
        "outputId": "14a840e2-6c4b-4b08-9fb9-02eb80bcfbbf"
      },
      "source": [
        "%%writefile compar_struct.cpp\r\n",
        "// C++ program to demonstrate structure sorting in C++\r\n",
        "// from https://www.geeksforgeeks.org/structure-sorting-in-c/\r\n",
        "\r\n",
        "#include <bits/stdc++.h>\r\n",
        "using namespace std;\r\n",
        " \r\n",
        "struct Student \r\n",
        "{\r\n",
        "    string name; // Given\r\n",
        "    int math; // Marks in math (Given)\r\n",
        "    int phy; // Marks in Physics (Given)\r\n",
        "    int che; // Marks in Chemistry (Given)\r\n",
        "    int total; // Total marks (To be filled)\r\n",
        "    int rank; // Rank of student (To be filled)\r\n",
        "};\r\n",
        " \r\n",
        "// Function for comparing two students according\r\n",
        "// to given rules\r\n",
        "bool compareTwoStudents(Student a, Student b)\r\n",
        "{\r\n",
        "    // If total marks are not same then\r\n",
        "    // returns true for higher total\r\n",
        "    if (a.total != b.total)\r\n",
        "        return a.total > b.total;\r\n",
        " \r\n",
        "    // If marks in Maths are not same then\r\n",
        "    // returns true for higher marks\r\n",
        "    if (a.math != b.math)\r\n",
        "        return a.math > b.math;\r\n",
        " \r\n",
        "    if (a.phy != b.phy)\r\n",
        "        return a.phy > b.phy;\r\n",
        " \r\n",
        "    return (a.che > b.che);\r\n",
        "}\r\n",
        " \r\n",
        "// Fills total marks and ranks of all Students\r\n",
        "void computeRanks(Student a[], int n)\r\n",
        "{\r\n",
        "    // To calculate total marks for all Students\r\n",
        "    for (int i = 0; i < n; i++)\r\n",
        "        a[i].total = a[i].math + a[i].phy + a[i].che;\r\n",
        " \r\n",
        "    // Sort structure array using user defined\r\n",
        "    // function compareTwoStudents()\r\n",
        "    sort(a, a + 5, compareTwoStudents);\r\n",
        " \r\n",
        "    // Assigning ranks after sorting\r\n",
        "    for (int i = 0; i < n; i++)\r\n",
        "        a[i].rank = i + 1;\r\n",
        "}\r\n",
        " \r\n",
        "// Driver code\r\n",
        "int main()\r\n",
        "{\r\n",
        "    int n = 5;\r\n",
        " \r\n",
        "    // array of structure objects\r\n",
        "    Student a[n];\r\n",
        " \r\n",
        "    // Details of Student 1\r\n",
        "    a[0].name = \"Bryan\";\r\n",
        "    a[0].math = 80;\r\n",
        "    a[0].phy = 95;\r\n",
        "    a[0].che = 85;\r\n",
        " \r\n",
        "    // Details of Student 2\r\n",
        "    a[1].name = \"Kevin\";\r\n",
        "    a[1].math = 95;\r\n",
        "    a[1].phy = 85;\r\n",
        "    a[1].che = 99;\r\n",
        " \r\n",
        "    // Details of Student 3\r\n",
        "    a[2].name = \"Nicky\";\r\n",
        "    a[2].math = 95;\r\n",
        "    a[2].phy = 85;\r\n",
        "    a[2].che = 80;\r\n",
        " \r\n",
        "    // Details of Student 4\r\n",
        "    a[3].name = \"Steve\";\r\n",
        "    a[3].math = 80;\r\n",
        "    a[3].phy = 70;\r\n",
        "    a[3].che = 90;\r\n",
        " \r\n",
        "    // Details of Student 5\r\n",
        "    a[4].name = \"Rohan\";\r\n",
        "    a[4].math = 80;\r\n",
        "    a[4].phy = 80;\r\n",
        "    a[4].che = 80;\r\n",
        " \r\n",
        "    computeRanks(a, n);\r\n",
        " \r\n",
        "    // Column names for displaying data\r\n",
        "    cout << \"Rank\"\r\n",
        "         << \" \"\r\n",
        "         << \"Name\"\r\n",
        "         << \"     \";\r\n",
        "    cout << \"Maths\"\r\n",
        "         << \" \"\r\n",
        "         << \"Physics\"\r\n",
        "         << \" \"\r\n",
        "         << \"Chemistry\";\r\n",
        "    cout << \" \"\r\n",
        "         << \"Total\\n\";\r\n",
        " \r\n",
        "    // Display details of Students\r\n",
        "    for (int i = 0; i < n; i++) {\r\n",
        "        cout << a[i].rank << \"    \";\r\n",
        "        cout << a[i].name << \"      \";\r\n",
        "        cout << a[i].math << \"     \" << a[i].phy << \"     \"\r\n",
        "             << a[i].che << \"       \";\r\n",
        "        cout << a[i].total << \" \";\r\n",
        "        cout << \"\\n\";\r\n",
        "    }\r\n",
        " \r\n",
        "    return 0;\r\n",
        "}"
      ],
      "execution_count": 7,
      "outputs": [
        {
          "output_type": "stream",
          "text": [
            "Writing compar_struct.cpp\n"
          ],
          "name": "stdout"
        }
      ]
    },
    {
      "cell_type": "code",
      "metadata": {
        "colab": {
          "base_uri": "https://localhost:8080/"
        },
        "id": "oNfWJ4nzHxPX",
        "outputId": "9b49e5f5-c417-4b1d-b346-9ca496fabf88"
      },
      "source": [
        "%%script bash\r\n",
        "# compile and run most recently written file\r\n",
        "\r\n",
        "g++ compar_struct.cpp -o compar_struct\r\n",
        "./compar_struct"
      ],
      "execution_count": 8,
      "outputs": [
        {
          "output_type": "stream",
          "text": [
            "Rank Name     Maths Physics Chemistry Total\n",
            "1    Kevin      95     85     99       279 \n",
            "2    Nicky      95     85     80       260 \n",
            "3    Bryan      80     95     85       260 \n",
            "4    Rohan      80     80     80       240 \n",
            "5    Steve      80     70     90       240 \n"
          ],
          "name": "stdout"
        }
      ]
    },
    {
      "cell_type": "markdown",
      "metadata": {
        "id": "TCuZKy3D4KZn"
      },
      "source": [
        "### **Iterators**\r\n",
        "\r\n",
        "An iterator is an object (like a pointer) that points to an element inside the container.\r\n",
        "\r\n",
        "Iterators can be used to move through the contents of the container. \r\n",
        "\r\n",
        "They can be visualized as something similar to a pointer pointing to some location.\r\n",
        "\r\n",
        "We can access the content at that particular location using them."
      ]
    },
    {
      "cell_type": "code",
      "metadata": {
        "colab": {
          "base_uri": "https://localhost:8080/"
        },
        "id": "Z-4qsg7TKLi3",
        "outputId": "349f947e-9427-4852-f695-20ae93a0506e"
      },
      "source": [
        "%%writefile iterator.cpp\r\n",
        "// from https://www.geeksforgeeks.org/iterators-c-stl/\r\n",
        "// C++ code to demonstrate the working of \r\n",
        "// iterator, begin() and end() \r\n",
        "#include<iostream> \r\n",
        "#include<iterator> // for iterators \r\n",
        "#include<vector> // for vectors \r\n",
        "using namespace std; \r\n",
        "int main() \r\n",
        "{ \r\n",
        "    vector<int> ar = { 1, 2, 3, 4, 5 }; \r\n",
        "      \r\n",
        "    // Declaring iterator to a vector \r\n",
        "    vector<int>::iterator ptr; \r\n",
        "      \r\n",
        "    // Displaying vector elements using begin() and end() \r\n",
        "    cout << \"The vector elements are: \"; \r\n",
        "    for (ptr = ar.begin(); ptr < ar.end(); ptr++) \r\n",
        "        cout << *ptr << \" \"; \r\n",
        "      \r\n",
        "    return 0;     \r\n",
        "} "
      ],
      "execution_count": 9,
      "outputs": [
        {
          "output_type": "stream",
          "text": [
            "Writing iterator.cpp\n"
          ],
          "name": "stdout"
        }
      ]
    },
    {
      "cell_type": "code",
      "metadata": {
        "colab": {
          "base_uri": "https://localhost:8080/"
        },
        "id": "Qb2AHD4rKQsS",
        "outputId": "6a1a5109-69aa-4a76-96e3-3bbaac6a5cf0"
      },
      "source": [
        "%%script bash\r\n",
        "# compile and run most recently written file\r\n",
        "\r\n",
        "g++ iterator.cpp -o iterator\r\n",
        "./iterator"
      ],
      "execution_count": 10,
      "outputs": [
        {
          "output_type": "stream",
          "text": [
            "The vector elements are: 1 2 3 4 5 "
          ],
          "name": "stdout"
        }
      ]
    },
    {
      "cell_type": "markdown",
      "metadata": {
        "id": "C7CGDA0V3kMY"
      },
      "source": [
        "##   \r\n"
      ]
    }
  ]
}